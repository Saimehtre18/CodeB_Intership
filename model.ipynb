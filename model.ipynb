{
 "cells": [
  {
   "cell_type": "code",
   "execution_count": 1,
   "metadata": {},
   "outputs": [],
   "source": [
    "#Import Data Manipulation Libraries\n",
    "import pandas as pd\n",
    "import numpy as np\n",
    "#import Data Visualization Libraries\n",
    "import seaborn as sns\n",
    "import matplotlib.pyplot as plt\n",
    "#import Filter Warnings Library\n",
    "import warnings\n",
    "warnings.filterwarnings(\"ignore\")\n",
    "#import Logging Library\n",
    "import logging\n",
    "logging.basicConfig(level=logging.INFO,\n",
    "                    filename=\"model.log\",\n",
    "                    filemode=\"w\",\n",
    "                    format=\"%(asctime)s - %(levelname)s - %(message)s\",force=True)"
   ]
  },
  {
   "cell_type": "code",
   "execution_count": null,
   "metadata": {},
   "outputs": [],
   "source": [
    "#load the dataset \n",
    "\n",
    "url=\"\""
   ]
  }
 ],
 "metadata": {
  "kernelspec": {
   "display_name": "base",
   "language": "python",
   "name": "python3"
  },
  "language_info": {
   "codemirror_mode": {
    "name": "ipython",
    "version": 3
   },
   "file_extension": ".py",
   "mimetype": "text/x-python",
   "name": "python",
   "nbconvert_exporter": "python",
   "pygments_lexer": "ipython3",
   "version": "3.12.7"
  }
 },
 "nbformat": 4,
 "nbformat_minor": 2
}
